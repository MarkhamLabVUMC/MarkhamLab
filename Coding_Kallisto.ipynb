{
 "cells": [
  {
   "cell_type": "markdown",
   "metadata": {},
   "source": [
    "# Coding with Kallisto"
   ]
  },
  {
   "cell_type": "markdown",
   "metadata": {},
   "source": [
    "This notebook explains the commands in Kallisto, and how you can use the package in programming languages primarily in Python."
   ]
  },
  {
   "cell_type": "markdown",
   "metadata": {},
   "source": [
    "## Commands"
   ]
  },
  {
   "cell_type": "markdown",
   "metadata": {},
   "source": [
    "There are several commands that can be used. The full manual can be found here: https://pachterlab.github.io/kallisto/manual"
   ]
  },
  {
   "cell_type": "markdown",
   "metadata": {},
   "source": [
    "**kallisto**\n",
    "produces a list of usage options, where the options are:\n",
    "\n",
    "index\n",
    "\n",
    "quant\n",
    "\n",
    "quant-tcc\n",
    "\n",
    "bus\n",
    "\n",
    "h5dump\n",
    "\n",
    "inspect\n",
    "\n",
    "version\n",
    "\n",
    "cite"
   ]
  },
  {
   "cell_type": "markdown",
   "metadata": {},
   "source": [
    "**kallisto index** builds index from FASTA formatted file of target sequences.\n",
    "\n",
    "**kallisto quant** runs the quantification algorithm.\n",
    "\n",
    "**kallisto quant-tcc** runs the EM algorithm to produce estimated counts from a transcript-compatibility-counts matrix file (which is in a MatrixMarket format where each column is an equivalence class and each row is a sample). \n",
    "\n",
    "**kallisto bus** works with raw FASTQ files for single-cell RNA-Seq datasets.\n",
    "\n",
    "**kallisto h5dump** converts HDF5-formatted results to plaintext.\n",
    "\n",
    "**kallisto inspect** can output the Target de Bruijn Graph in the index in two ways, as a file in GFA format or it can map the contigs of the graph and and equivalence classes in a BED format that can be visualized using IGV.\n",
    "\n",
    "**kallisto version** displays the current version of the software.\n",
    "\n",
    "**kallisto cite** displays the citation for the paper."
   ]
  },
  {
   "cell_type": "markdown",
   "metadata": {},
   "source": [
    "## Python"
   ]
  },
  {
   "cell_type": "markdown",
   "metadata": {},
   "source": [
    "Now we will go step by step, explaining how to run Kallisto in Python, specifically a .ipynb Jupyter Notebook that is run in Visual Studio Code."
   ]
  },
  {
   "cell_type": "markdown",
   "metadata": {},
   "source": [
    "#### 1. Open the PowerShell/Windows Command Prompt\n",
    "\n",
    "#### 2. In the PowerShell window, type 'wsl'\n",
    "This will bring you into the WSL environment, where you have Ubuntu installed.\n",
    "\n",
    "#### 3. Install Python, pip, and Jupyter\n",
    "In the command prompt, type:\n",
    "\n",
    "sudo apt update\n",
    "\n",
    "sudo apt install python3 python3-pip\n",
    "\n",
    "pip3 install jupyter\n",
    "\n",
    "*Note this is a 1 time step, so if you have done this already in wsl, you can move onto the next step.\n",
    "#### 4. Navigate to your notebook's directory\n",
    "In WSL, the Windows file system is mounted under '/mnt/'. To navigate to your notebook's location, type 'cd /mnt/(file path of where notebook is located)'\n",
    "\n",
    "Ex. If your notebook is located in the file path: C:\\Users\\OneDrive\\Test_Folder, the command you would type is 'cd /mnt/c/Users/OneDrive/Test_Folder'.\n",
    "*Make sure to use '/' and **not** '\\' in the command prompt. Also, it should just be where your notebook is located, **not** the file path of the notebook.\n",
    "\n",
    "#### 5. Start the Jupyter Notebook Server\n",
    "In the command prompt, type:\n",
    "\n",
    "jupyter notebook --no-browser --allow-root\n",
    "\n",
    "You will see some messages, then a URL that will look like:\n",
    "\n",
    "http://localhost:8888/?token=YOUR_UNIQUE_TOKEN\n",
    "\n",
    "**Keep this terminal open**\n",
    "\n",
    "#### 6. Open Visual Studio Code\n",
    "Make sure you have the Jupyter extension installed. If not, install it from the extensions view (You can do so by clicking the blocks icon in the left panel, or simply do 'Ctrl+Shift+X' and search for 'Jupyter'.)\n",
    "\n",
    "#### 7. Open the desired Jupyter Notebook in Visual Studio Code\n",
    "\n",
    "#### 8. Select Kernel\n",
    "At the top right of the window, you will see a server logo that says 'Select Kernel'. Click on that.\n",
    "\n",
    "#### 9. Click on 'Select Another Kernel'\n",
    "\n",
    "#### 10. Select 'Existing Jupyter Server'\n",
    "\n",
    "#### 11. Select 'Enter the URL of the running Jupyter Server'\n",
    "\n",
    "#### 12. Enter the URL\n",
    "Copy the URL from the command prompt in step 5. Paste that into the input box in Visual Studio Code and press enter. \n",
    "*Note it may ask you to change the display name, but simply press enter again to continue.\n",
    "\n",
    "#### 13. Select 'Python 3 (ipykernel)'\n",
    "\n",
    "#### 14. Verify Kallisto runs\n",
    "In your Jupyter Notebook, run '!kallisto version' in a code cell to see if Kallisto is accessible. If you see the version number then you were successful!\n"
   ]
  },
  {
   "cell_type": "code",
   "execution_count": 1,
   "metadata": {},
   "outputs": [
    {
     "name": "stdout",
     "output_type": "stream",
     "text": [
      "kallisto, version 0.46.1\n"
     ]
    }
   ],
   "source": [
    "!kallisto version"
   ]
  },
  {
   "cell_type": "markdown",
   "metadata": {},
   "source": [
    "To use any of the kallisto commands, simply put '!' before it. This is because '!' tells the Jupyter environment to execute the command in the system shell rather than trying to interpret it as Python code. If you were writing Python code in the cell, you wouldn't use '!', it is only for shell commands."
   ]
  },
  {
   "cell_type": "markdown",
   "metadata": {},
   "source": [
    "If you want to capture the output of the command within Python for further procession, you can use the 'subprocess' module. Here is some example code:"
   ]
  },
  {
   "cell_type": "code",
   "execution_count": 2,
   "metadata": {},
   "outputs": [
    {
     "name": "stdout",
     "output_type": "stream",
     "text": [
      "kallisto 0.46.1\n",
      "Builds a kallisto index\n",
      "\n",
      "Usage: kallisto index [arguments] FASTA-files\n",
      "\n",
      "Required argument:\n",
      "-i, --index=STRING          Filename for the kallisto index to be constructed \n",
      "\n",
      "Optional argument:\n",
      "-k, --kmer-size=INT         k-mer (odd) length (default: 31, max value: 31)\n",
      "    --make-unique           Replace repeated target names with unique names\n",
      "\n",
      "\n",
      "Errors:\n",
      "\n",
      "Error: FASTA file not found transcripts.fasta\n",
      "\n"
     ]
    }
   ],
   "source": [
    "import subprocess\n",
    "\n",
    "cmd = [\"kallisto\", \"index\", \"-i\", \"transcripts.idx\", \"transcripts.fasta\"]\n",
    "result = subprocess.run(cmd, capture_output=True, text=True)\n",
    "\n",
    "# Print the output\n",
    "print(result.stdout)\n",
    "\n",
    "# Check for errors (if any)\n",
    "if result.stderr:\n",
    "    print(\"Errors:\")\n",
    "    print(result.stderr)\n"
   ]
  },
  {
   "cell_type": "markdown",
   "metadata": {},
   "source": [
    "## R"
   ]
  },
  {
   "cell_type": "markdown",
   "metadata": {},
   "source": [
    "Kallisto is not a package that can be found in R. However, there is a closely related package called 'sleuth' that is designed to work with Kallisto output. 'sleuth' is used for differential expression analysis of the transcript quantifications produced by Kallisto. If you are working within the R ecosystem, 'sleuth' allows you to read in Kallisto's output and perform further statistical analyses."
   ]
  },
  {
   "cell_type": "markdown",
   "metadata": {},
   "source": [
    "Now we will go step by step, installing sleuth in R."
   ]
  },
  {
   "cell_type": "markdown",
   "metadata": {},
   "source": [
    "#### 1. Install RStudio\n",
    "\n",
    "#### 2. Install Bioconductor Packages\n",
    "In an R command window, type:\n",
    "\n",
    "if (!require(\"BiocManager\", quietly = TRUE))\n",
    "    install.packages(\"BiocManager\")\n",
    "BiocManager::install()\n",
    "\n",
    "#### 3. Install sleuth\n",
    "In the same R command window, type:\n",
    "\n",
    "BiocManager::install(\"sleuth\")\n",
    "\n",
    "#### 4. Load sleuth\n",
    "In your R session, type:\n",
    "\n",
    "library(sleuth)"
   ]
  },
  {
   "cell_type": "markdown",
   "metadata": {},
   "source": []
  }
 ],
 "metadata": {
  "kernelspec": {
   "display_name": "Python 3 (ipykernel)",
   "language": "python",
   "name": "python3"
  },
  "language_info": {
   "codemirror_mode": {
    "name": "ipython",
    "version": 3
   },
   "file_extension": ".py",
   "mimetype": "text/x-python",
   "name": "python",
   "nbconvert_exporter": "python",
   "pygments_lexer": "ipython3",
   "version": "3.10.12"
  }
 },
 "nbformat": 4,
 "nbformat_minor": 2
}
